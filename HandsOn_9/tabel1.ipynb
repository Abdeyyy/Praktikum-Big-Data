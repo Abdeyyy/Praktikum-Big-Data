{
 "cells": [
  {
   "cell_type": "code",
   "execution_count": 2,
   "id": "88be2f66-c81b-4a35-9dac-adae5f0a9552",
   "metadata": {},
   "outputs": [
    {
     "name": "stdout",
     "output_type": "stream",
     "text": [
      "+-----+---+------+------+------+\n",
      "| Name|Age|Gender|Salary|DeptID|\n",
      "+-----+---+------+------+------+\n",
      "|James| 34|     M|  3000|     1|\n",
      "| Anna| 28|     F|  4100|     2|\n",
      "|  Lee| 23|     M|  2700|     1|\n",
      "+-----+---+------+------+------+\n",
      "\n",
      "+----+---+\n",
      "|Name|Age|\n",
      "+----+---+\n",
      "|Anna| 28|\n",
      "+----+---+\n",
      "\n",
      "+------------------+\n",
      "|       avg(Salary)|\n",
      "+------------------+\n",
      "|3266.6666666666665|\n",
      "+------------------+\n",
      "\n"
     ]
    }
   ],
   "source": [
    "from pyspark.sql import SparkSession\n",
    "# Membuat Objek SparkSession\n",
    "spark = SparkSession.builder.appName('HandsOn9').getOrCreate()\n",
    "\n",
    "# Membuat database sederhana\n",
    "data = [\n",
    "    ('James', 34, 'M', 3000, 1),\n",
    "    ('Anna', 28, 'F', 4100, 2),\n",
    "    ('Lee', 23, 'M', 2700, 1)\n",
    "]\n",
    "\n",
    "# Membuat daftar kolom pada tabel untuk database\n",
    "columns = ['Name','Age','Gender','Salary','DeptID']\n",
    "\n",
    "# Membuat dataframe \n",
    "df = spark.createDataFrame(data, schema=columns)\n",
    "df.createOrReplaceTempView('employees')\n",
    "\n",
    "# Menjalankan query\n",
    "spark.sql('SELECT * FROM employees').show()\n",
    "spark.sql('SELECT Name, Age FROM employees WHERE Salary > 3000').show()\n",
    "spark.sql('SELECT AVG(Salary) FROM employees').show()"
   ]
  },
  {
   "cell_type": "code",
   "execution_count": 3,
   "id": "c56485b5-9be7-4347-b1c8-1e9128951823",
   "metadata": {},
   "outputs": [
    {
     "name": "stdout",
     "output_type": "stream",
     "text": [
      "+------+-----------+---+\n",
      "|Gender|TotalSalary|Age|\n",
      "+------+-----------+---+\n",
      "|     M|       2700| 23|\n",
      "|     F|       4100| 28|\n",
      "|     M|       3000| 34|\n",
      "+------+-----------+---+\n",
      "\n"
     ]
    }
   ],
   "source": [
    "# Total gaji berdasarkan jenis kelamin dan usia\n",
    "spark.sql('''\n",
    "SELECT Gender, SUM(Salary) as TotalSalary, Age\n",
    "FROM employees \n",
    "GROUP BY Gender, Age\n",
    "ORDER BY Age\n",
    "''').show()"
   ]
  },
  {
   "cell_type": "code",
   "execution_count": 36,
   "id": "429b98e0-a886-4b8f-a3e8-e6dfc8007a31",
   "metadata": {},
   "outputs": [
    {
     "name": "stdout",
     "output_type": "stream",
     "text": [
      "+-----+---+------+----+\n",
      "| Name|Age|Salary|rank|\n",
      "+-----+---+------+----+\n",
      "|  Lee| 23|  2700|   1|\n",
      "| Anna| 28|  4100|   1|\n",
      "|James| 34|  3000|   1|\n",
      "+-----+---+------+----+\n",
      "\n"
     ]
    }
   ],
   "source": [
    "# Top 3 karyawan dalam kelompok usia tertentu\n",
    "spark.sql('''\n",
    "SELECT Name, Age, Salary, ROW_NUMBER() OVER (PARTITION BY Age ORDER BY Salary DESC) as rank\n",
    "FROM employees\n",
    "''').show()"
   ]
  },
  {
   "cell_type": "code",
   "execution_count": 6,
   "id": "e56e9510-0772-47e9-a65d-ebc56a8bfadf",
   "metadata": {},
   "outputs": [
    {
     "name": "stdout",
     "output_type": "stream",
     "text": [
      "+-----+------+------+----+\n",
      "| Name|Salary|DeptID|Rank|\n",
      "+-----+------+------+----+\n",
      "|James|  3000|     1|   1|\n",
      "|  Lee|  2700|     1|   2|\n",
      "| Anna|  4100|     2|   1|\n",
      "+-----+------+------+----+\n",
      "\n"
     ]
    }
   ],
   "source": [
    "# RANKING KARYAWAN\n",
    "spark.sql('''\n",
    "SELECT Name, Salary, DeptID,\n",
    "RANK() OVER (PARTITION BY DeptID ORDER BY Salary DESC) AS Rank\n",
    "FROM employees\n",
    "''').show()"
   ]
  },
  {
   "cell_type": "code",
   "execution_count": 4,
   "id": "3dab1649-e1ab-422c-8cf9-7a392834af10",
   "metadata": {},
   "outputs": [
    {
     "name": "stdout",
     "output_type": "stream",
     "text": [
      "+------+--------------+\n",
      "|DeptID|Rata_rata_gaji|\n",
      "+------+--------------+\n",
      "|     1|        2850.0|\n",
      "|     2|        4100.0|\n",
      "+------+--------------+\n",
      "\n"
     ]
    }
   ],
   "source": [
    "# RATA-RATA GAJI PER DEPARTMENT\n",
    "spark.sql('''\n",
    "SELECT DeptID, AVG(SALARY) as Rata_rata_gaji\n",
    "FROM employees\n",
    "GROUP BY DeptID\n",
    "''').show()"
   ]
  },
  {
   "cell_type": "code",
   "execution_count": 5,
   "id": "ed83c25e-8c5e-4bf6-b216-6594b38fa05f",
   "metadata": {},
   "outputs": [
    {
     "name": "stdout",
     "output_type": "stream",
     "text": [
      "+-----+------+------+\n",
      "| Name|Gender|Salary|\n",
      "+-----+------+------+\n",
      "|James|     M|  3000|\n",
      "+-----+------+------+\n",
      "\n"
     ]
    }
   ],
   "source": [
    "# GAJI DI ATAS RATA-RATA TIAP GENDER\n",
    "spark.sql('''\n",
    "SELECT Name, Gender, Salary\n",
    "FROM employees e\n",
    "WHERE Salary > (SELECT AVG(Salary)\n",
    "FROM employees e2\n",
    "WHERE e2.Gender = e.Gender)\n",
    "''').show()"
   ]
  },
  {
   "cell_type": "code",
   "execution_count": null,
   "id": "47d5cca2-ead1-4668-a342-25bffbe169e8",
   "metadata": {},
   "outputs": [],
   "source": []
  }
 ],
 "metadata": {
  "kernelspec": {
   "display_name": "Python 3 (ipykernel)",
   "language": "python",
   "name": "python3"
  },
  "language_info": {
   "codemirror_mode": {
    "name": "ipython",
    "version": 3
   },
   "file_extension": ".py",
   "mimetype": "text/x-python",
   "name": "python",
   "nbconvert_exporter": "python",
   "pygments_lexer": "ipython3",
   "version": "3.10.18"
  }
 },
 "nbformat": 4,
 "nbformat_minor": 5
}
