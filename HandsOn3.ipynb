{
 "cells": [
  {
   "cell_type": "code",
   "execution_count": 13,
   "id": "d61758a6-3fb8-4d7f-9d23-51dea8c687aa",
   "metadata": {},
   "outputs": [
    {
     "name": "stderr",
     "output_type": "stream",
     "text": [
      "25/09/04 18:50:19 WARN SparkSession: Using an existing Spark session; only runtime SQL configurations will take effect.\n",
      "                                                                                "
     ]
    },
    {
     "name": "stdout",
     "output_type": "stream",
     "text": [
      "+---------+----------+-----+----+----------+\n",
      "|ID Barang|      Nama|Harga|Stok|  Kategori|\n",
      "+---------+----------+-----+----+----------+\n",
      "|        1|     Sabun| 5000|  20|Alat Mandi|\n",
      "|        2|Pasta Gigi|10000|  15|Alat Mandi|\n",
      "|        3|    Pensil| 3000|  25|Alat Tulis|\n",
      "|        4|   Bolpoin| 6000|  10|Alat Tulis|\n",
      "|        5|   Shampoo| 1000|  30|Alat Mandi|\n",
      "+---------+----------+-----+----+----------+\n",
      "\n"
     ]
    }
   ],
   "source": [
    "from pyspark.sql import SparkSession as SS\n",
    "spark = SS.builder.appName(\"HandsOnPertemuan3\").getOrCreate()\n",
    "\n",
    "# Membuat data barang per baris\n",
    "data = [(\"1\",\"Sabun\",5000,20,\"Alat Mandi\"),\n",
    "        (\"2\",\"Pasta Gigi\",10000,15,\"Alat Mandi\"),\n",
    "        (\"3\",\"Pensil\",3000,25,\"Alat Tulis\"),\n",
    "        (\"4\",\"Bolpoin\",6000,10,\"Alat Tulis\"),\n",
    "        (\"5\",\"Shampoo\",1000,30,\"Alat Mandi\")]\n",
    "\n",
    "# Membuat kolom barang\n",
    "columns = [\"ID Barang\",\"Nama\",\"Harga\",\"Stok\",\"Kategori\"]\n",
    "\n",
    "df = spark.createDataFrame(data, schema=columns)\n",
    "df.show()"
   ]
  },
  {
   "cell_type": "code",
   "execution_count": 14,
   "id": "2f190c61-e029-4c16-8256-a1a8c9c37263",
   "metadata": {},
   "outputs": [
    {
     "name": "stdout",
     "output_type": "stream",
     "text": [
      "+----------+----+\n",
      "|      Nama|Stok|\n",
      "+----------+----+\n",
      "|     Sabun|  20|\n",
      "|Pasta Gigi|  15|\n",
      "|    Pensil|  25|\n",
      "|   Bolpoin|  10|\n",
      "|   Shampoo|  30|\n",
      "+----------+----+\n",
      "\n",
      "+---------+----------+-----+----+----------+\n",
      "|ID Barang|      Nama|Harga|Stok|  Kategori|\n",
      "+---------+----------+-----+----+----------+\n",
      "|        2|Pasta Gigi|10000|  15|Alat Mandi|\n",
      "|        4|   Bolpoin| 6000|  10|Alat Tulis|\n",
      "+---------+----------+-----+----+----------+\n",
      "\n",
      "+----------+----------+\n",
      "|  Kategori|sum(Harga)|\n",
      "+----------+----------+\n",
      "|Alat Mandi|     16000|\n",
      "|Alat Tulis|      9000|\n",
      "+----------+----------+\n",
      "\n",
      "+----------+\n",
      "|avg(Harga)|\n",
      "+----------+\n",
      "|    5000.0|\n",
      "+----------+\n",
      "\n",
      "+---------+\n",
      "|max(Stok)|\n",
      "+---------+\n",
      "|       30|\n",
      "+---------+\n",
      "\n",
      "+---------+\n",
      "|sum(Stok)|\n",
      "+---------+\n",
      "|      100|\n",
      "+---------+\n",
      "\n"
     ]
    }
   ],
   "source": [
    "# Menampilkan data Nama dan Stok barang\n",
    "df.select(\"Nama\",\"Stok\").show()\n",
    "\n",
    "# Menampilkan barang dengan harga di atas 5000\n",
    "df.filter(df[\"Harga\"]>5000).show()\n",
    "\n",
    "# Menampilkan jumlah harga di tiap kategori\n",
    "df.groupBy(\"Kategori\").sum(\"Harga\").show()\n",
    "\n",
    "# Menampilkan rata-rata harga\n",
    "df.groupBy().mean(\"Harga\").show()\n",
    "\n",
    "# Menampilkan stok tertinggi\n",
    "df.groupBy().max(\"Stok\").show()\n",
    "\n",
    "# Menampilkan keseluruhan jumlah stok\n",
    "df.groupBy().sum(\"Stok\").show()"
   ]
  },
  {
   "cell_type": "code",
   "execution_count": 15,
   "id": "6ca43c9f-4b50-4e8d-94a1-2d60b783bafc",
   "metadata": {},
   "outputs": [
    {
     "name": "stdout",
     "output_type": "stream",
     "text": [
      "+---------+----------+-----+----+----------+------+\n",
      "|ID Barang|      Nama|Harga|Stok|  Kategori| Pajak|\n",
      "+---------+----------+-----+----+----------+------+\n",
      "|        1|     Sabun| 5000|  20|Alat Mandi| 600.0|\n",
      "|        2|Pasta Gigi|10000|  15|Alat Mandi|1200.0|\n",
      "|        3|    Pensil| 3000|  25|Alat Tulis| 360.0|\n",
      "|        4|   Bolpoin| 6000|  10|Alat Tulis| 720.0|\n",
      "|        5|   Shampoo| 1000|  30|Alat Mandi| 120.0|\n",
      "+---------+----------+-----+----+----------+------+\n",
      "\n",
      "+---------+----------+-----+----+----------+\n",
      "|ID Barang|      Nama|Harga|Stok|  Kategori|\n",
      "+---------+----------+-----+----+----------+\n",
      "|        1|     Sabun| 5000|  23|Alat Mandi|\n",
      "|        2|Pasta Gigi|10000|  18|Alat Mandi|\n",
      "|        3|    Pensil| 3000|  28|Alat Tulis|\n",
      "|        4|   Bolpoin| 6000|  13|Alat Tulis|\n",
      "|        5|   Shampoo| 1000|  33|Alat Mandi|\n",
      "+---------+----------+-----+----+----------+\n",
      "\n"
     ]
    }
   ],
   "source": [
    "# Menambah kolom baru bernama Pajak\n",
    "df.withColumn(\"Pajak\", df[\"Harga\"] * 0.12).show()\n",
    "\n",
    "# Mengubah nilai stok\n",
    "df.withColumn(\"Stok\", df[\"Stok\"] + 3).show()"
   ]
  },
  {
   "cell_type": "code",
   "execution_count": 16,
   "id": "3402b3db-a998-4f63-871d-ca1b49d01c4b",
   "metadata": {},
   "outputs": [
    {
     "name": "stdout",
     "output_type": "stream",
     "text": [
      "+---------+----------+-----+----+----------+----+\n",
      "|ID Barang|      Nama|Harga|Stok|  Kategori|Rank|\n",
      "+---------+----------+-----+----+----------+----+\n",
      "|        5|   Shampoo| 1000|  30|Alat Mandi|   1|\n",
      "|        1|     Sabun| 5000|  20|Alat Mandi|   2|\n",
      "|        2|Pasta Gigi|10000|  15|Alat Mandi|   3|\n",
      "|        3|    Pensil| 3000|  25|Alat Tulis|   1|\n",
      "|        4|   Bolpoin| 6000|  10|Alat Tulis|   2|\n",
      "+---------+----------+-----+----+----------+----+\n",
      "\n"
     ]
    }
   ],
   "source": [
    "from pyspark.sql.window import Window\n",
    "from pyspark.sql import functions as F\n",
    "\n",
    "windowSpec = Window.partitionBy(\"Kategori\").orderBy(\"Harga\")\n",
    "df.withColumn(\"Rank\", F.rank().over(windowSpec)).show()"
   ]
  },
  {
   "cell_type": "code",
   "execution_count": null,
   "id": "c14bc9a9-c3dd-4e60-95c7-de125846ec1e",
   "metadata": {},
   "outputs": [],
   "source": []
  }
 ],
 "metadata": {
  "kernelspec": {
   "display_name": "Python 3 (ipykernel)",
   "language": "python",
   "name": "python3"
  },
  "language_info": {
   "codemirror_mode": {
    "name": "ipython",
    "version": 3
   },
   "file_extension": ".py",
   "mimetype": "text/x-python",
   "name": "python",
   "nbconvert_exporter": "python",
   "pygments_lexer": "ipython3",
   "version": "3.10.18"
  }
 },
 "nbformat": 4,
 "nbformat_minor": 5
}
